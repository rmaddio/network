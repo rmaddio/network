{
 "cells": [
  {
   "cell_type": "markdown",
   "metadata": {},
   "source": [
    "# Theoretical Concepts of Network Analysis\n",
    "## Graph "
   ]
  },
  {
   "cell_type": "code",
   "execution_count": null,
   "metadata": {},
   "outputs": [],
   "source": [
    "import networkx as nx\n",
    "import pandas as pd\n",
    "\n",
    "edges = [\n",
    "    [1,2],\n",
    "    [1,3],\n",
    "    [2,3],\n",
    "    [3,4],\n",
    "    [3,5],\n",
    "    [4,5],\n",
    "    [5,6],\n",
    "    [6,7],\n",
    "    [7,8],\n",
    "    [7,9],\n",
    "    [8,9],\n",
    "    [9,10],\n",
    "]\n",
    "\n",
    "labels = {\n",
    "    (1,2): 7,\n",
    "    (1,3): 5,\n",
    "    (2,3): 4,\n",
    "    (3,4): 3,\n",
    "    (3,5): 6,\n",
    "    (4,5): 5,\n",
    "    (5,6): 2,\n",
    "    (6,7): 3,\n",
    "    (7,8): 4,\n",
    "    (7,9): 3,\n",
    "    (8,9): 5,\n",
    "    (9,10): 4,\n",
    "} \n",
    "\n",
    "df = pd.DataFrame(edges, columns=['source', 'target'])\n",
    "\n",
    "G = nx.from_pandas_edgelist(df, source='source', target='target')\n",
    "\n",
    "pos = nx.spring_layout(G)\n",
    "\n",
    "nx.draw_networkx(G, pos, arrows=True)\n",
    "\n",
    "nx.draw_networkx_edge_labels(G, pos, edge_labels=labels)"
   ]
  },
  {
   "cell_type": "markdown",
   "metadata": {},
   "source": [
    "## Matrices\n",
    "### Adjacency Matrix"
   ]
  },
  {
   "cell_type": "code",
   "execution_count": 2,
   "metadata": {},
   "outputs": [
    {
     "name": "stderr",
     "output_type": "stream",
     "text": [
      "C:\\Users\\Rafa\\AppData\\Local\\Temp\\ipykernel_12900\\3716753878.py:2: FutureWarning: adjacency_matrix will return a scipy.sparse array instead of a matrix in Networkx 3.0.\n",
      "  A = nx.adjacency_matrix(G)\n"
     ]
    },
    {
     "data": {
      "text/plain": [
       "matrix([[0, 1, 0, 0, 0, 0, 0, 0, 0, 1],\n",
       "        [1, 0, 1, 0, 0, 0, 0, 0, 0, 0],\n",
       "        [0, 1, 0, 1, 0, 0, 0, 0, 0, 0],\n",
       "        [0, 0, 1, 0, 1, 0, 0, 0, 0, 0],\n",
       "        [0, 0, 0, 1, 0, 1, 0, 0, 0, 0],\n",
       "        [0, 0, 0, 0, 1, 0, 1, 0, 0, 0],\n",
       "        [0, 0, 0, 0, 0, 1, 0, 1, 0, 0],\n",
       "        [0, 0, 0, 0, 0, 0, 1, 0, 1, 0],\n",
       "        [0, 0, 0, 0, 0, 0, 0, 1, 0, 1],\n",
       "        [1, 0, 0, 0, 0, 0, 0, 0, 1, 0]], dtype=int32)"
      ]
     },
     "execution_count": 2,
     "metadata": {},
     "output_type": "execute_result"
    }
   ],
   "source": [
    "G = nx.cycle_graph(10)\n",
    "A = nx.adjacency_matrix(G)\n",
    "A.todense()"
   ]
  },
  {
   "cell_type": "markdown",
   "metadata": {},
   "source": [
    "### Edge List Matrix"
   ]
  },
  {
   "cell_type": "code",
   "execution_count": 3,
   "metadata": {},
   "outputs": [
    {
     "data": {
      "text/plain": [
       "EdgeDataView([('A', 'B', {'weight': 3}), ('A', 'D', {'weight': 5}), ('A', 'E', {'weight': 5}), ('E', 'C', {'weight': 1})])"
      ]
     },
     "execution_count": 3,
     "metadata": {},
     "output_type": "execute_result"
    }
   ],
   "source": [
    "edges = [\n",
    "    ['A','B',1],\n",
    "    ['A','D',4],\n",
    "    ['A','E',5],\n",
    "    ['B','A',3],\n",
    "    ['C','E',3],\n",
    "    ['D','A',5],\n",
    "    ['E','C',1],\n",
    "]\n",
    "\n",
    "df = pd.DataFrame(edges, columns=['source','target','weight'])\n",
    "\n",
    "G = nx.from_pandas_edgelist(df, source='source', target='target', edge_attr=True)\n",
    "\n",
    "nx.to_edgelist(G)"
   ]
  },
  {
   "cell_type": "markdown",
   "metadata": {},
   "source": [
    "### Adjacency List"
   ]
  },
  {
   "cell_type": "code",
   "execution_count": 4,
   "metadata": {},
   "outputs": [
    {
     "name": "stdout",
     "output_type": "stream",
     "text": [
      "('A', {'B': {'weight': 3}, 'D': {'weight': 5}, 'E': {'weight': 5}})\n",
      "('B', {'A': {'weight': 3}})\n",
      "('D', {'A': {'weight': 5}})\n",
      "('E', {'A': {'weight': 5}, 'C': {'weight': 1}})\n",
      "('C', {'E': {'weight': 1}})\n"
     ]
    }
   ],
   "source": [
    "adj_list = G.adjacency()\n",
    "for i in adj_list:\n",
    "    print(i)"
   ]
  },
  {
   "cell_type": "code",
   "execution_count": 5,
   "metadata": {},
   "outputs": [
    {
     "data": {
      "text/plain": [
       "{'A': ['B', 'D', 'E'], 'B': ['A'], 'D': ['A'], 'E': ['A', 'C'], 'C': ['E']}"
      ]
     },
     "execution_count": 5,
     "metadata": {},
     "output_type": "execute_result"
    }
   ],
   "source": [
    "nx.to_dict_of_lists(G)"
   ]
  },
  {
   "cell_type": "code",
   "execution_count": 11,
   "metadata": {},
   "outputs": [
    {
     "name": "stdout",
     "output_type": "stream",
     "text": [
      "  (0, 1)\t3\n",
      "  (0, 2)\t5\n",
      "  (0, 3)\t5\n",
      "  (1, 0)\t3\n",
      "  (2, 0)\t5\n",
      "  (3, 0)\t5\n",
      "  (3, 4)\t1\n",
      "  (4, 3)\t1\n"
     ]
    },
    {
     "name": "stderr",
     "output_type": "stream",
     "text": [
      "C:\\Users\\Rafa\\AppData\\Local\\Temp\\ipykernel_12900\\2207176705.py:1: DeprecationWarning: \n",
      "\n",
      "The scipy.sparse array containers will be used instead of matrices\n",
      "in Networkx 3.0. Use `to_scipy_sparse_array` instead.\n",
      "  print(nx.to_scipy_sparse_matrix(G))\n"
     ]
    }
   ],
   "source": [
    "print(nx.to_scipy_sparse_matrix(G))"
   ]
  }
 ],
 "metadata": {
  "kernelspec": {
   "display_name": "Python 3.9.12 ('pygdal')",
   "language": "python",
   "name": "python3"
  },
  "language_info": {
   "codemirror_mode": {
    "name": "ipython",
    "version": 3
   },
   "file_extension": ".py",
   "mimetype": "text/x-python",
   "name": "python",
   "nbconvert_exporter": "python",
   "pygments_lexer": "ipython3",
   "version": "3.9.13"
  },
  "orig_nbformat": 4,
  "vscode": {
   "interpreter": {
    "hash": "ee31e7ef9327f70c02e14d0457c8ada0f03efdf2f170d78ae6edb0c8b9bef9c2"
   }
  }
 },
 "nbformat": 4,
 "nbformat_minor": 2
}
